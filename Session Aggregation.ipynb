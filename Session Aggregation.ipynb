{
 "cells": [
  {
   "cell_type": "code",
   "execution_count": 1,
   "id": "cfe14b73",
   "metadata": {},
   "outputs": [],
   "source": [
    "import pandas as pd\n",
    "from scipy import sparse\n",
    "from scipy.sparse import csr_matrix, lil_matrix"
   ]
  },
  {
   "cell_type": "markdown",
   "id": "2e70df02",
   "metadata": {},
   "source": [
    "## Load and View"
   ]
  },
  {
   "cell_type": "code",
   "execution_count": 2,
   "id": "30d048b9",
   "metadata": {},
   "outputs": [],
   "source": [
    "df_view = pd.read_csv('data/train-item-views.csv', delimiter=';', usecols=[0,2])\n",
    "df_click = pd.read_csv('data/train-clicks.csv', delimiter=';', usecols=[0,2])\n",
    "df_purchase = pd.read_csv('data/train-purchases.csv', delimiter=';', usecols=[0,5])\n",
    "df_queries = pd.read_csv('data/train-queries.csv', delimiter=';', usecols=[0,1])"
   ]
  },
  {
   "cell_type": "code",
   "execution_count": 3,
   "id": "f7baffbd",
   "metadata": {},
   "outputs": [
    {
     "data": {
      "text/html": [
       "<div>\n",
       "<style scoped>\n",
       "    .dataframe tbody tr th:only-of-type {\n",
       "        vertical-align: middle;\n",
       "    }\n",
       "\n",
       "    .dataframe tbody tr th {\n",
       "        vertical-align: top;\n",
       "    }\n",
       "\n",
       "    .dataframe thead th {\n",
       "        text-align: right;\n",
       "    }\n",
       "</style>\n",
       "<table border=\"1\" class=\"dataframe\">\n",
       "  <thead>\n",
       "    <tr style=\"text-align: right;\">\n",
       "      <th></th>\n",
       "      <th>sessionId</th>\n",
       "      <th>itemId</th>\n",
       "    </tr>\n",
       "  </thead>\n",
       "  <tbody>\n",
       "    <tr>\n",
       "      <th>0</th>\n",
       "      <td>1</td>\n",
       "      <td>81766</td>\n",
       "    </tr>\n",
       "    <tr>\n",
       "      <th>1</th>\n",
       "      <td>1</td>\n",
       "      <td>31331</td>\n",
       "    </tr>\n",
       "    <tr>\n",
       "      <th>2</th>\n",
       "      <td>1</td>\n",
       "      <td>32118</td>\n",
       "    </tr>\n",
       "    <tr>\n",
       "      <th>3</th>\n",
       "      <td>1</td>\n",
       "      <td>9654</td>\n",
       "    </tr>\n",
       "    <tr>\n",
       "      <th>4</th>\n",
       "      <td>1</td>\n",
       "      <td>32627</td>\n",
       "    </tr>\n",
       "    <tr>\n",
       "      <th>...</th>\n",
       "      <td>...</td>\n",
       "      <td>...</td>\n",
       "    </tr>\n",
       "    <tr>\n",
       "      <th>1235375</th>\n",
       "      <td>600684</td>\n",
       "      <td>42906</td>\n",
       "    </tr>\n",
       "    <tr>\n",
       "      <th>1235376</th>\n",
       "      <td>600684</td>\n",
       "      <td>33312</td>\n",
       "    </tr>\n",
       "    <tr>\n",
       "      <th>1235377</th>\n",
       "      <td>600684</td>\n",
       "      <td>33312</td>\n",
       "    </tr>\n",
       "    <tr>\n",
       "      <th>1235378</th>\n",
       "      <td>600684</td>\n",
       "      <td>5227</td>\n",
       "    </tr>\n",
       "    <tr>\n",
       "      <th>1235379</th>\n",
       "      <td>600687</td>\n",
       "      <td>13296</td>\n",
       "    </tr>\n",
       "  </tbody>\n",
       "</table>\n",
       "<p>1235380 rows × 2 columns</p>\n",
       "</div>"
      ],
      "text/plain": [
       "         sessionId  itemId\n",
       "0                1   81766\n",
       "1                1   31331\n",
       "2                1   32118\n",
       "3                1    9654\n",
       "4                1   32627\n",
       "...            ...     ...\n",
       "1235375     600684   42906\n",
       "1235376     600684   33312\n",
       "1235377     600684   33312\n",
       "1235378     600684    5227\n",
       "1235379     600687   13296\n",
       "\n",
       "[1235380 rows x 2 columns]"
      ]
     },
     "execution_count": 3,
     "metadata": {},
     "output_type": "execute_result"
    }
   ],
   "source": [
    "df_view"
   ]
  },
  {
   "cell_type": "code",
   "execution_count": 4,
   "id": "d1acfd15",
   "metadata": {
    "scrolled": false
   },
   "outputs": [
    {
     "data": {
      "text/html": [
       "<div>\n",
       "<style scoped>\n",
       "    .dataframe tbody tr th:only-of-type {\n",
       "        vertical-align: middle;\n",
       "    }\n",
       "\n",
       "    .dataframe tbody tr th {\n",
       "        vertical-align: top;\n",
       "    }\n",
       "\n",
       "    .dataframe thead th {\n",
       "        text-align: right;\n",
       "    }\n",
       "</style>\n",
       "<table border=\"1\" class=\"dataframe\">\n",
       "  <thead>\n",
       "    <tr style=\"text-align: right;\">\n",
       "      <th></th>\n",
       "      <th>sessionId</th>\n",
       "      <th>itemId</th>\n",
       "    </tr>\n",
       "  </thead>\n",
       "  <tbody>\n",
       "    <tr>\n",
       "      <th>0</th>\n",
       "      <td>150</td>\n",
       "      <td>25911</td>\n",
       "    </tr>\n",
       "    <tr>\n",
       "      <th>1</th>\n",
       "      <td>151</td>\n",
       "      <td>175874</td>\n",
       "    </tr>\n",
       "    <tr>\n",
       "      <th>2</th>\n",
       "      <td>156</td>\n",
       "      <td>35324</td>\n",
       "    </tr>\n",
       "    <tr>\n",
       "      <th>3</th>\n",
       "      <td>179</td>\n",
       "      <td>31233</td>\n",
       "    </tr>\n",
       "    <tr>\n",
       "      <th>4</th>\n",
       "      <td>246</td>\n",
       "      <td>34677</td>\n",
       "    </tr>\n",
       "    <tr>\n",
       "      <th>...</th>\n",
       "      <td>...</td>\n",
       "      <td>...</td>\n",
       "    </tr>\n",
       "    <tr>\n",
       "      <th>18020</th>\n",
       "      <td>600131</td>\n",
       "      <td>40804</td>\n",
       "    </tr>\n",
       "    <tr>\n",
       "      <th>18021</th>\n",
       "      <td>600250</td>\n",
       "      <td>33777</td>\n",
       "    </tr>\n",
       "    <tr>\n",
       "      <th>18022</th>\n",
       "      <td>600432</td>\n",
       "      <td>17176</td>\n",
       "    </tr>\n",
       "    <tr>\n",
       "      <th>18023</th>\n",
       "      <td>600432</td>\n",
       "      <td>13662</td>\n",
       "    </tr>\n",
       "    <tr>\n",
       "      <th>18024</th>\n",
       "      <td>600661</td>\n",
       "      <td>379345</td>\n",
       "    </tr>\n",
       "  </tbody>\n",
       "</table>\n",
       "<p>18025 rows × 2 columns</p>\n",
       "</div>"
      ],
      "text/plain": [
       "       sessionId  itemId\n",
       "0            150   25911\n",
       "1            151  175874\n",
       "2            156   35324\n",
       "3            179   31233\n",
       "4            246   34677\n",
       "...          ...     ...\n",
       "18020     600131   40804\n",
       "18021     600250   33777\n",
       "18022     600432   17176\n",
       "18023     600432   13662\n",
       "18024     600661  379345\n",
       "\n",
       "[18025 rows x 2 columns]"
      ]
     },
     "execution_count": 4,
     "metadata": {},
     "output_type": "execute_result"
    }
   ],
   "source": [
    "df_purchase"
   ]
  },
  {
   "cell_type": "code",
   "execution_count": 5,
   "id": "4ca964a7",
   "metadata": {},
   "outputs": [
    {
     "data": {
      "text/html": [
       "<div>\n",
       "<style scoped>\n",
       "    .dataframe tbody tr th:only-of-type {\n",
       "        vertical-align: middle;\n",
       "    }\n",
       "\n",
       "    .dataframe tbody tr th {\n",
       "        vertical-align: top;\n",
       "    }\n",
       "\n",
       "    .dataframe thead th {\n",
       "        text-align: right;\n",
       "    }\n",
       "</style>\n",
       "<table border=\"1\" class=\"dataframe\">\n",
       "  <thead>\n",
       "    <tr style=\"text-align: right;\">\n",
       "      <th></th>\n",
       "      <th>queryId</th>\n",
       "      <th>itemId</th>\n",
       "    </tr>\n",
       "  </thead>\n",
       "  <tbody>\n",
       "    <tr>\n",
       "      <th>0</th>\n",
       "      <td>1</td>\n",
       "      <td>24857</td>\n",
       "    </tr>\n",
       "    <tr>\n",
       "      <th>1</th>\n",
       "      <td>46255</td>\n",
       "      <td>30792</td>\n",
       "    </tr>\n",
       "    <tr>\n",
       "      <th>2</th>\n",
       "      <td>46689</td>\n",
       "      <td>8252</td>\n",
       "    </tr>\n",
       "    <tr>\n",
       "      <th>3</th>\n",
       "      <td>46731</td>\n",
       "      <td>33969</td>\n",
       "    </tr>\n",
       "    <tr>\n",
       "      <th>4</th>\n",
       "      <td>46748</td>\n",
       "      <td>7837</td>\n",
       "    </tr>\n",
       "    <tr>\n",
       "      <th>...</th>\n",
       "      <td>...</td>\n",
       "      <td>...</td>\n",
       "    </tr>\n",
       "    <tr>\n",
       "      <th>1127759</th>\n",
       "      <td>980493</td>\n",
       "      <td>42906</td>\n",
       "    </tr>\n",
       "    <tr>\n",
       "      <th>1127760</th>\n",
       "      <td>980493</td>\n",
       "      <td>33312</td>\n",
       "    </tr>\n",
       "    <tr>\n",
       "      <th>1127761</th>\n",
       "      <td>980493</td>\n",
       "      <td>33312</td>\n",
       "    </tr>\n",
       "    <tr>\n",
       "      <th>1127762</th>\n",
       "      <td>980493</td>\n",
       "      <td>5227</td>\n",
       "    </tr>\n",
       "    <tr>\n",
       "      <th>1127763</th>\n",
       "      <td>980503</td>\n",
       "      <td>13296</td>\n",
       "    </tr>\n",
       "  </tbody>\n",
       "</table>\n",
       "<p>1127764 rows × 2 columns</p>\n",
       "</div>"
      ],
      "text/plain": [
       "         queryId  itemId\n",
       "0              1   24857\n",
       "1          46255   30792\n",
       "2          46689    8252\n",
       "3          46731   33969\n",
       "4          46748    7837\n",
       "...          ...     ...\n",
       "1127759   980493   42906\n",
       "1127760   980493   33312\n",
       "1127761   980493   33312\n",
       "1127762   980493    5227\n",
       "1127763   980503   13296\n",
       "\n",
       "[1127764 rows x 2 columns]"
      ]
     },
     "execution_count": 5,
     "metadata": {},
     "output_type": "execute_result"
    }
   ],
   "source": [
    "df_click # Missing 'sessionId' column - need to map queryId -> sessionId with df_queries"
   ]
  },
  {
   "cell_type": "code",
   "execution_count": 6,
   "id": "f09b9169",
   "metadata": {},
   "outputs": [
    {
     "data": {
      "text/html": [
       "<div>\n",
       "<style scoped>\n",
       "    .dataframe tbody tr th:only-of-type {\n",
       "        vertical-align: middle;\n",
       "    }\n",
       "\n",
       "    .dataframe tbody tr th {\n",
       "        vertical-align: top;\n",
       "    }\n",
       "\n",
       "    .dataframe thead th {\n",
       "        text-align: right;\n",
       "    }\n",
       "</style>\n",
       "<table border=\"1\" class=\"dataframe\">\n",
       "  <thead>\n",
       "    <tr style=\"text-align: right;\">\n",
       "      <th></th>\n",
       "      <th>queryId</th>\n",
       "      <th>sessionId</th>\n",
       "    </tr>\n",
       "  </thead>\n",
       "  <tbody>\n",
       "    <tr>\n",
       "      <th>0</th>\n",
       "      <td>1</td>\n",
       "      <td>1</td>\n",
       "    </tr>\n",
       "    <tr>\n",
       "      <th>46248</th>\n",
       "      <td>46255</td>\n",
       "      <td>1</td>\n",
       "    </tr>\n",
       "    <tr>\n",
       "      <th>46682</th>\n",
       "      <td>46689</td>\n",
       "      <td>1</td>\n",
       "    </tr>\n",
       "    <tr>\n",
       "      <th>46724</th>\n",
       "      <td>46731</td>\n",
       "      <td>1</td>\n",
       "    </tr>\n",
       "    <tr>\n",
       "      <th>46741</th>\n",
       "      <td>46748</td>\n",
       "      <td>1</td>\n",
       "    </tr>\n",
       "    <tr>\n",
       "      <th>46761</th>\n",
       "      <td>46768</td>\n",
       "      <td>1</td>\n",
       "    </tr>\n",
       "    <tr>\n",
       "      <th>108054</th>\n",
       "      <td>111737</td>\n",
       "      <td>1</td>\n",
       "    </tr>\n",
       "    <tr>\n",
       "      <th>127885</th>\n",
       "      <td>132852</td>\n",
       "      <td>1</td>\n",
       "    </tr>\n",
       "    <tr>\n",
       "      <th>187432</th>\n",
       "      <td>196431</td>\n",
       "      <td>1</td>\n",
       "    </tr>\n",
       "    <tr>\n",
       "      <th>213325</th>\n",
       "      <td>224052</td>\n",
       "      <td>1</td>\n",
       "    </tr>\n",
       "    <tr>\n",
       "      <th>250765</th>\n",
       "      <td>264024</td>\n",
       "      <td>1</td>\n",
       "    </tr>\n",
       "    <tr>\n",
       "      <th>252475</th>\n",
       "      <td>265837</td>\n",
       "      <td>1</td>\n",
       "    </tr>\n",
       "    <tr>\n",
       "      <th>279869</th>\n",
       "      <td>294997</td>\n",
       "      <td>1</td>\n",
       "    </tr>\n",
       "    <tr>\n",
       "      <th>386342</th>\n",
       "      <td>408555</td>\n",
       "      <td>1</td>\n",
       "    </tr>\n",
       "    <tr>\n",
       "      <th>534503</th>\n",
       "      <td>566393</td>\n",
       "      <td>1</td>\n",
       "    </tr>\n",
       "    <tr>\n",
       "      <th>588452</th>\n",
       "      <td>623903</td>\n",
       "      <td>1</td>\n",
       "    </tr>\n",
       "    <tr>\n",
       "      <th>838532</th>\n",
       "      <td>890364</td>\n",
       "      <td>1</td>\n",
       "    </tr>\n",
       "    <tr>\n",
       "      <th>878382</th>\n",
       "      <td>932796</td>\n",
       "      <td>1</td>\n",
       "    </tr>\n",
       "    <tr>\n",
       "      <th>904365</th>\n",
       "      <td>960476</td>\n",
       "      <td>1</td>\n",
       "    </tr>\n",
       "  </tbody>\n",
       "</table>\n",
       "</div>"
      ],
      "text/plain": [
       "        queryId  sessionId\n",
       "0             1          1\n",
       "46248     46255          1\n",
       "46682     46689          1\n",
       "46724     46731          1\n",
       "46741     46748          1\n",
       "46761     46768          1\n",
       "108054   111737          1\n",
       "127885   132852          1\n",
       "187432   196431          1\n",
       "213325   224052          1\n",
       "250765   264024          1\n",
       "252475   265837          1\n",
       "279869   294997          1\n",
       "386342   408555          1\n",
       "534503   566393          1\n",
       "588452   623903          1\n",
       "838532   890364          1\n",
       "878382   932796          1\n",
       "904365   960476          1"
      ]
     },
     "execution_count": 6,
     "metadata": {},
     "output_type": "execute_result"
    }
   ],
   "source": [
    "df_queries[df_queries['sessionId'] == 1]"
   ]
  },
  {
   "cell_type": "markdown",
   "id": "c33f5ff0",
   "metadata": {},
   "source": [
    "## Correct and map indices"
   ]
  },
  {
   "cell_type": "code",
   "execution_count": 7,
   "id": "926a1a58",
   "metadata": {},
   "outputs": [],
   "source": [
    "query_session = {query: session for query, session in df_queries.itertuples(index=False)} # Map queryId to sessionId\n",
    "df_click['sessionId'] = df_click['queryId'].map(query_session) # Create sessionId column for 'click' data\n",
    "df_click = df_click.drop(columns='queryId')"
   ]
  },
  {
   "cell_type": "code",
   "execution_count": 8,
   "id": "29861fda",
   "metadata": {},
   "outputs": [
    {
     "data": {
      "text/html": [
       "<div>\n",
       "<style scoped>\n",
       "    .dataframe tbody tr th:only-of-type {\n",
       "        vertical-align: middle;\n",
       "    }\n",
       "\n",
       "    .dataframe tbody tr th {\n",
       "        vertical-align: top;\n",
       "    }\n",
       "\n",
       "    .dataframe thead th {\n",
       "        text-align: right;\n",
       "    }\n",
       "</style>\n",
       "<table border=\"1\" class=\"dataframe\">\n",
       "  <thead>\n",
       "    <tr style=\"text-align: right;\">\n",
       "      <th></th>\n",
       "      <th>itemId</th>\n",
       "      <th>sessionId</th>\n",
       "    </tr>\n",
       "  </thead>\n",
       "  <tbody>\n",
       "    <tr>\n",
       "      <th>0</th>\n",
       "      <td>24857</td>\n",
       "      <td>1</td>\n",
       "    </tr>\n",
       "    <tr>\n",
       "      <th>1</th>\n",
       "      <td>30792</td>\n",
       "      <td>1</td>\n",
       "    </tr>\n",
       "    <tr>\n",
       "      <th>2</th>\n",
       "      <td>8252</td>\n",
       "      <td>1</td>\n",
       "    </tr>\n",
       "    <tr>\n",
       "      <th>3</th>\n",
       "      <td>33969</td>\n",
       "      <td>1</td>\n",
       "    </tr>\n",
       "    <tr>\n",
       "      <th>4</th>\n",
       "      <td>7837</td>\n",
       "      <td>1</td>\n",
       "    </tr>\n",
       "    <tr>\n",
       "      <th>...</th>\n",
       "      <td>...</td>\n",
       "      <td>...</td>\n",
       "    </tr>\n",
       "    <tr>\n",
       "      <th>1127759</th>\n",
       "      <td>42906</td>\n",
       "      <td>600684</td>\n",
       "    </tr>\n",
       "    <tr>\n",
       "      <th>1127760</th>\n",
       "      <td>33312</td>\n",
       "      <td>600684</td>\n",
       "    </tr>\n",
       "    <tr>\n",
       "      <th>1127761</th>\n",
       "      <td>33312</td>\n",
       "      <td>600684</td>\n",
       "    </tr>\n",
       "    <tr>\n",
       "      <th>1127762</th>\n",
       "      <td>5227</td>\n",
       "      <td>600684</td>\n",
       "    </tr>\n",
       "    <tr>\n",
       "      <th>1127763</th>\n",
       "      <td>13296</td>\n",
       "      <td>600687</td>\n",
       "    </tr>\n",
       "  </tbody>\n",
       "</table>\n",
       "<p>1127764 rows × 2 columns</p>\n",
       "</div>"
      ],
      "text/plain": [
       "         itemId  sessionId\n",
       "0         24857          1\n",
       "1         30792          1\n",
       "2          8252          1\n",
       "3         33969          1\n",
       "4          7837          1\n",
       "...         ...        ...\n",
       "1127759   42906     600684\n",
       "1127760   33312     600684\n",
       "1127761   33312     600684\n",
       "1127762    5227     600684\n",
       "1127763   13296     600687\n",
       "\n",
       "[1127764 rows x 2 columns]"
      ]
     },
     "execution_count": 8,
     "metadata": {},
     "output_type": "execute_result"
    }
   ],
   "source": [
    "df_click # Now has 'sessionId' column"
   ]
  },
  {
   "cell_type": "code",
   "execution_count": 9,
   "id": "ccb98e67",
   "metadata": {},
   "outputs": [],
   "source": [
    "item_ids = pd.concat((df_view['itemId'], df_click['itemId'], df_purchase['itemId']))\n",
    "item_index = {item: index for index, item in enumerate(item_ids.unique())}\n",
    "\n",
    "session_ids = pd.concat((df_view['sessionId'], df_click['sessionId'], df_purchase['sessionId']))\n",
    "session_index = {session: index for index, session in enumerate(session_ids.unique())}"
   ]
  },
  {
   "cell_type": "markdown",
   "id": "821c951e",
   "metadata": {},
   "source": [
    "## Aggregate"
   ]
  },
  {
   "cell_type": "code",
   "execution_count": 10,
   "id": "6f71cf6d",
   "metadata": {},
   "outputs": [],
   "source": [
    "# Adjust these values as needed\n",
    "view_value = 1\n",
    "click_value = 2\n",
    "purchase_value = 3\n",
    "\n",
    "df_view['rating'] = [view_value] * len(df_view)\n",
    "df_click['rating'] = [click_value] * len(df_click)\n",
    "df_purchase['rating'] = [purchase_value] * len(df_purchase)"
   ]
  },
  {
   "cell_type": "code",
   "execution_count": 11,
   "id": "f1659d5c",
   "metadata": {},
   "outputs": [],
   "source": [
    "df_all = pd.concat([df_view,df_click,df_purchase], ignore_index=True)"
   ]
  },
  {
   "cell_type": "code",
   "execution_count": 12,
   "id": "6dbd7fb8",
   "metadata": {
    "scrolled": true
   },
   "outputs": [],
   "source": [
    "ratings_matrix = csr_matrix((df_all['rating'], (df_all['sessionId'].map(session_index), df_all['itemId'].map(item_index))),\n",
    "                            shape=(len(df_all['sessionId'].unique()), len(item_index)))"
   ]
  },
  {
   "cell_type": "code",
   "execution_count": 13,
   "id": "a723819f",
   "metadata": {
    "scrolled": false
   },
   "outputs": [
    {
     "name": "stdout",
     "output_type": "stream",
     "text": [
      "0.0028768047330218517 % non-zero\n",
      "0.9971231952669781 % zero\n"
     ]
    }
   ],
   "source": [
    "sparsity = ratings_matrix.nnz / (ratings_matrix.shape[0] * ratings_matrix.shape[1])\n",
    "print(f\"{sparsity * 100} % non-zero\")\n",
    "print(f\"{1 - sparsity * 100} % zero\")"
   ]
  },
  {
   "cell_type": "markdown",
   "id": "c54b211c",
   "metadata": {},
   "source": [
    "Note from csr_matrix documentation: 'Duplicate entries are summed together.' That means if a user interacts with the same item multiple times within the same session, the values for the different actions are summed together.\n",
    "\n",
    "For example, if a user views an item twice, then clicks, then purchases, the value for that session-item pair is:  \n",
    "`(2 * view) + (1 * click) + (1 * purchase)`"
   ]
  },
  {
   "cell_type": "code",
   "execution_count": 14,
   "id": "bb6c7c62",
   "metadata": {},
   "outputs": [
    {
     "data": {
      "text/plain": [
       "array([ 9, 11,  1,  9,  1,  1,  1,  1,  1,  1,  2,  4,  2,  6,  2,  2,  2,\n",
       "        2,  2,  2,  2,  2,  2,  2,  2,  2,  2,  2,  4,  2,  2,  4,  2,  4,\n",
       "        2], dtype=int64)"
      ]
     },
     "execution_count": 14,
     "metadata": {},
     "output_type": "execute_result"
    }
   ],
   "source": [
    "ratings_matrix[0].data"
   ]
  },
  {
   "cell_type": "markdown",
   "id": "ede3f3db",
   "metadata": {},
   "source": [
    "## Saving (and loading)"
   ]
  },
  {
   "cell_type": "code",
   "execution_count": 15,
   "id": "52b4bfb5",
   "metadata": {},
   "outputs": [],
   "source": [
    "sparse.save_npz(\"data/ratings_matrix.npz\", ratings_matrix)\n",
    "# ratings_matrix = sparse.load_npz(\"data/ratings_matrix.npz\")"
   ]
  },
  {
   "cell_type": "markdown",
   "id": "69b5528a",
   "metadata": {},
   "source": [
    "## Skip-Gram context/target caching\n",
    "Generating the contexts and targets for skip-gram takes some time, which makes training take forever when calculating for every single sample.  \n",
    "I decided to generate them here to cache for future use, instead of generating them during training.  \n",
    "While I was doing this, I figured it would be simpler to also cache the train/test split matrices for non-skip-gram training runs as well."
   ]
  },
  {
   "cell_type": "code",
   "execution_count": 16,
   "id": "e4575924",
   "metadata": {},
   "outputs": [],
   "source": [
    "import numpy as np\n",
    "from tqdm import tqdm\n",
    "from sklearn.model_selection import train_test_split"
   ]
  },
  {
   "cell_type": "code",
   "execution_count": 17,
   "id": "4baae5b2",
   "metadata": {},
   "outputs": [
    {
     "data": {
      "text/plain": [
       "((295752, 128910), (73939, 128910))"
      ]
     },
     "execution_count": 17,
     "metadata": {},
     "output_type": "execute_result"
    }
   ],
   "source": [
    "sessions_train, sessions_test = train_test_split(ratings_matrix, test_size=0.2)\n",
    "sparse.save_npz(\"data/sessions_train.npz\", sessions_train)\n",
    "sparse.save_npz(\"data/sessions_test.npz\", sessions_test)\n",
    "\n",
    "sessions_train.shape, sessions_test.shape"
   ]
  },
  {
   "cell_type": "code",
   "execution_count": 18,
   "id": "97616efc",
   "metadata": {},
   "outputs": [],
   "source": [
    "def generate_context_target_pairs(session_row):\n",
    "    num_items = session_row.shape[1]\n",
    "    context_target_pairs = []\n",
    "\n",
    "    session_array = session_row.toarray().flatten()\n",
    "\n",
    "    for i, rating in enumerate(session_array):\n",
    "        if rating != 0:\n",
    "            context = np.zeros(num_items, dtype='int32')\n",
    "            context[i] = rating\n",
    "\n",
    "            target_indices = np.concatenate([np.arange(0, i), np.arange(i + 1, num_items)])\n",
    "            target = np.zeros(num_items, dtype='int32')\n",
    "            target[target_indices] = session_array[target_indices]\n",
    "\n",
    "            context_target_pairs.append((context, target))\n",
    "\n",
    "    return context_target_pairs"
   ]
  },
  {
   "cell_type": "code",
   "execution_count": 19,
   "id": "1e7dccc6",
   "metadata": {},
   "outputs": [
    {
     "name": "stdout",
     "output_type": "stream",
     "text": [
      "Original: [1 0 2 0 3 1 0] \n",
      "\n",
      "Context: [1 0 0 0 0 0 0]\n",
      "Target: [0 0 2 0 3 1 0] \n",
      "\n",
      "Context: [0 0 2 0 0 0 0]\n",
      "Target: [1 0 0 0 3 1 0] \n",
      "\n",
      "Context: [0 0 0 0 3 0 0]\n",
      "Target: [1 0 2 0 0 1 0] \n",
      "\n",
      "Context: [0 0 0 0 0 1 0]\n",
      "Target: [1 0 2 0 3 0 0] \n",
      "\n"
     ]
    }
   ],
   "source": [
    "# Example session ratings row\n",
    "session_row = csr_matrix([[1, 0, 2, 0, 3, 1, 0]])\n",
    "\n",
    "# Generate context-target pairs\n",
    "pairs = generate_context_target_pairs(session_row)\n",
    "\n",
    "print(\"Original:\", session_row.toarray()[0], \"\\n\")\n",
    "for context, target in pairs:\n",
    "    print(\"Context:\", context)\n",
    "    print(\"Target:\", target, \"\\n\")"
   ]
  },
  {
   "cell_type": "code",
   "execution_count": null,
   "id": "381211e5",
   "metadata": {},
   "outputs": [],
   "source": [
    "# Only need to do this for training data - testing data is embedded from its original state\n",
    "session_contexts_train = lil_matrix((sessions_train.nnz, sessions_train.shape[1]), dtype='int32')\n",
    "session_targets_train = lil_matrix((sessions_train.nnz, sessions_train.shape[1]), dtype='int32')\n",
    "\n",
    "idx = 0\n",
    "for i, session in tqdm(enumerate(sessions_train), total=sessions_train.shape[0]):\n",
    "    pairs = generate_context_target_pairs(session)\n",
    "    for context, target in pairs:\n",
    "        session_contexts_train[idx] = context\n",
    "        session_targets_train[idx] = target\n",
    "        idx += 1"
   ]
  },
  {
   "cell_type": "code",
   "execution_count": null,
   "id": "b5c788f1",
   "metadata": {},
   "outputs": [],
   "source": [
    "sparse.save_npz(\"data/session_train_contexts.npz\", session_contexts_train.tocsr())\n",
    "sparse.save_npz(\"data/session_train_targets.npz\", session_targets_train.tocsr())"
   ]
  }
 ],
 "metadata": {
  "kernelspec": {
   "display_name": "Python 3 (ipykernel)",
   "language": "python",
   "name": "python3"
  },
  "language_info": {
   "codemirror_mode": {
    "name": "ipython",
    "version": 3
   },
   "file_extension": ".py",
   "mimetype": "text/x-python",
   "name": "python",
   "nbconvert_exporter": "python",
   "pygments_lexer": "ipython3",
   "version": "3.10.4"
  }
 },
 "nbformat": 4,
 "nbformat_minor": 5
}
