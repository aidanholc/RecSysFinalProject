{
 "cells": [
  {
   "cell_type": "markdown",
   "id": "e1650b3d",
   "metadata": {},
   "source": [
    "# Embedding Ratings - Skip Gram Approach"
   ]
  },
  {
   "cell_type": "code",
   "execution_count": 1,
   "id": "05692741",
   "metadata": {},
   "outputs": [],
   "source": [
    "# TensorFlow Keras\n",
    "import tensorflow as tf\n",
    "from tensorflow import keras\n",
    "from tensorflow.keras import layers\n",
    "from tensorflow.keras import backend as K\n",
    "from tensorflow.keras.models import Model\n",
    "\n",
    "# Other\n",
    "import pandas as pd\n",
    "import numpy as np\n",
    "import seaborn as sns\n",
    "import matplotlib.pyplot as plt\n",
    "from tqdm import tqdm\n",
    "from scipy.stats import pearsonr\n",
    "from scipy.sparse import csr_matrix, lil_matrix, vstack, load_npz\n",
    "from sklearn.metrics import root_mean_squared_error\n",
    "from sklearn.model_selection import train_test_split\n",
    "from sklearn.preprocessing import MaxAbsScaler\n",
    "from sklearn.neighbors import NearestNeighbors\n",
    "from sklearn.feature_extraction.text import TfidfTransformer\n",
    "\n",
    "import warnings\n",
    "warnings.filterwarnings('ignore')\n",
    "tf.config.run_functions_eagerly(True)\n",
    "#tf.data.experimental.enable_debug_mode()"
   ]
  },
  {
   "cell_type": "markdown",
   "id": "497e292e",
   "metadata": {},
   "source": [
    "## Classes and Methods"
   ]
  },
  {
   "cell_type": "code",
   "execution_count": 2,
   "id": "016f1155",
   "metadata": {},
   "outputs": [],
   "source": [
    "class EmbeddingRatings:\n",
    "    def __init__(self, hidden_dim: int, k: int, input_dim: int):\n",
    "        self.input_dim = input_dim\n",
    "        input_vec = keras.Input(shape=(self.input_dim,))\n",
    "        encoded = layers.Dense(hidden_dim, activation='relu')(input_vec)\n",
    "        decoded = layers.Dense(input_dim, activation='sigmoid')(encoded) # If not scaling, use ReLU\n",
    "        \n",
    "        self.autoencoder = keras.Model(input_vec, decoded)\n",
    "        self.encoder = keras.Model(input_vec, encoded)\n",
    "        self.autoencoder.compile(optimizer='adam', loss='mean_squared_error')\n",
    "        \n",
    "        self.knn = NearestNeighbors(metric='cosine', n_neighbors=k)\n",
    "    \n",
    "    def fit(self, training_ratings, generator, epochs):\n",
    "        self.training_ratings = training_ratings\n",
    "        \n",
    "        print('Fitting autoencoder...')\n",
    "        # Batch size determined in generator constructor\n",
    "        self.autoencoder.fit(generator, \n",
    "                             epochs=epochs,\n",
    "                             shuffle=True)\n",
    "        \n",
    "        print('Creating embeddings...')\n",
    "        self.embeddings = self.encoder.predict(self.training_ratings)\n",
    "        self.knn.fit(self.embeddings)\n",
    "        \n",
    "    def predict(self, user_ratings):\n",
    "        print('Embedding test users...')\n",
    "        pred_embeddings = self.encoder.predict(user_ratings)\n",
    "        \n",
    "        print('Performing nearest-neighbor search in embedding space...')\n",
    "        user_neighbors = self.knn.kneighbors(pred_embeddings, return_distance=False)\n",
    "        \n",
    "        print('Aggregating neighbor ratings...')\n",
    "        pred = lil_matrix(user_ratings.shape)\n",
    "        for idx, neighbor_indices in tqdm(enumerate(user_neighbors), total=user_neighbors.shape[0]):\n",
    "            neighbors = self.training_ratings[neighbor_indices]\n",
    "            divisor = neighbors.getnnz(axis=0)\n",
    "            divisor[divisor == 0] = 1\n",
    "            pred[idx] = neighbors.sum(axis=0) / divisor\n",
    " \n",
    "        return pred.tocsr()"
   ]
  },
  {
   "cell_type": "code",
   "execution_count": 3,
   "id": "b04b4a6f",
   "metadata": {},
   "outputs": [],
   "source": [
    "class SkipGramDataGenerator(keras.utils.Sequence):\n",
    "    def __init__(self, contexts, targets, batch_size):\n",
    "        self.contexts = contexts\n",
    "        self.targets = targets\n",
    "        self.batch_size = batch_size\n",
    "        self.indices = np.arange(contexts.shape[0])\n",
    "\n",
    "    def __len__(self):\n",
    "        return int(np.ceil(self.contexts.shape[0] / self.batch_size))\n",
    "\n",
    "    def __getitem__(self, idx):\n",
    "        batch_indices = self.indices[idx * self.batch_size : (idx + 1) * self.batch_size]\n",
    "        context_batch = self.contexts[batch_indices].toarray()\n",
    "        targets_batch = self.targets[batch_indices].toarray()\n",
    "        return context_batch, targets_batch"
   ]
  },
  {
   "cell_type": "code",
   "execution_count": 4,
   "id": "c223e539",
   "metadata": {},
   "outputs": [],
   "source": [
    "def seen_unseen_split(ratings, fraction_seen=0.8):\n",
    "    seen = lil_matrix(ratings.shape)\n",
    "    unseen = lil_matrix(ratings.shape)\n",
    "\n",
    "    for user_id in tqdm(range(ratings.shape[0])):\n",
    "        rated_items_indices = ratings[user_id].nonzero()[1]\n",
    "        np.random.shuffle(rated_items_indices)\n",
    "        num_seen_items = int(fraction_seen * len(rated_items_indices))\n",
    "\n",
    "        seen[user_id, rated_items_indices[:num_seen_items]] = ratings[user_id, rated_items_indices[:num_seen_items]]\n",
    "        unseen[user_id, rated_items_indices[num_seen_items:]] = ratings[user_id, rated_items_indices[num_seen_items:]]\n",
    "\n",
    "    return seen.tocsr(), unseen.tocsr()"
   ]
  },
  {
   "cell_type": "markdown",
   "id": "99321399",
   "metadata": {},
   "source": [
    "## Data Preparation\n",
    "- Default: view=1, click=2, purchase=3  \n",
    "- Magnitude: view=1, click=10, purchase=100  \n",
    "- Binary: view=1, click=1, purchase=1 (no aggregation for repeated item interaction, i.e. all ratings = 1)  "
   ]
  },
  {
   "cell_type": "code",
   "execution_count": 5,
   "id": "6776a4b6",
   "metadata": {},
   "outputs": [
    {
     "name": "stderr",
     "output_type": "stream",
     "text": [
      "100%|██████████████████████████████████████████████████████████████████████████| 73939/73939 [00:31<00:00, 2326.72it/s]\n"
     ]
    }
   ],
   "source": [
    "experiment = 'default' # Choose from: default, magnitude, binary\n",
    "clip_ranges = {'default': 20, 'magnitude': 100} # Ranges for each set so that < 1% are clipped\n",
    "clip = True \n",
    "scale = True\n",
    "\n",
    "sessions_train = load_npz(f\"data/{experiment}/sessions_train.npz\")\n",
    "sessions_test = load_npz(f\"data/{experiment}/sessions_test.npz\")\n",
    "\n",
    "# Cached context/target pairs generated from sessions_train\n",
    "session_train_contexts = load_npz(f\"data/{experiment}/session_train_contexts.npz\")\n",
    "session_train_targets = load_npz(f\"data/{experiment}/session_train_targets.npz\")\n",
    "\n",
    "if clip and experiment != 'binary':\n",
    "    sessions_train.data = np.clip(sessions_train.data, 0, clip_ranges[experiment])\n",
    "    session_train_contexts.data = np.clip(session_train_contexts.data, 0, clip_ranges[experiment])\n",
    "    session_train_targets.data = np.clip(session_train_targets.data, 0, clip_ranges[experiment])\n",
    "    sessions_test.data = np.clip(sessions_test.data, 0, clip_ranges[experiment])\n",
    "\n",
    "if scale and experiment != 'binary':\n",
    "    scaler = MaxAbsScaler()\n",
    "    sessions_train.data = scaler.fit_transform(sessions_train.data.reshape(-1, 1)).reshape(-1)\n",
    "    session_train_contexts.data = scaler.transform(session_train_contexts.data.reshape(-1, 1)).reshape(-1)\n",
    "    session_train_targets.data = scaler.transform(session_train_targets.data.reshape(-1, 1)).reshape(-1)\n",
    "    sessions_test.data = scaler.transform(sessions_test.data.reshape(-1, 1)).reshape(-1)\n",
    "    \n",
    "seen, unseen = seen_unseen_split(sessions_test)"
   ]
  },
  {
   "cell_type": "markdown",
   "id": "232ae510",
   "metadata": {},
   "source": [
    "## Usage"
   ]
  },
  {
   "cell_type": "code",
   "execution_count": 6,
   "id": "0d83b050",
   "metadata": {},
   "outputs": [],
   "source": [
    "K.clear_session()"
   ]
  },
  {
   "cell_type": "code",
   "execution_count": 7,
   "id": "4f352485",
   "metadata": {},
   "outputs": [
    {
     "name": "stdout",
     "output_type": "stream",
     "text": [
      "Model: \"model\"\n",
      "_________________________________________________________________\n",
      " Layer (type)                Output Shape              Param #   \n",
      "=================================================================\n",
      " input_1 (InputLayer)        [(None, 128910)]          0         \n",
      "                                                                 \n",
      " dense (Dense)               (None, 128)               16500608  \n",
      "                                                                 \n",
      " dense_1 (Dense)             (None, 128910)            16629390  \n",
      "                                                                 \n",
      "=================================================================\n",
      "Total params: 33,129,998\n",
      "Trainable params: 33,129,998\n",
      "Non-trainable params: 0\n",
      "_________________________________________________________________\n"
     ]
    }
   ],
   "source": [
    "er = EmbeddingRatings(hidden_dim=128, k=500, input_dim=sessions_train.shape[1])\n",
    "er.autoencoder.summary()"
   ]
  },
  {
   "cell_type": "code",
   "execution_count": 8,
   "id": "fbd1e7aa",
   "metadata": {},
   "outputs": [
    {
     "name": "stdout",
     "output_type": "stream",
     "text": [
      "Fitting autoencoder...\n",
      "Epoch 1/5\n",
      "4288/4288 [==============================] - 678s 158ms/step - loss: 0.0081\n",
      "Epoch 2/5\n",
      "4288/4288 [==============================] - 695s 162ms/step - loss: 8.0813e-06\n",
      "Epoch 3/5\n",
      "4288/4288 [==============================] - 745s 174ms/step - loss: 2.1798e-06\n",
      "Epoch 4/5\n",
      "4288/4288 [==============================] - 758s 177ms/step - loss: 1.4571e-06\n",
      "Epoch 5/5\n",
      "4288/4288 [==============================] - 753s 176ms/step - loss: 1.3674e-06\n",
      "Creating embeddings...\n",
      "9243/9243 [==============================] - 42s 4ms/step\n"
     ]
    }
   ],
   "source": [
    "generator = SkipGramDataGenerator(session_train_contexts, session_train_targets, batch_size=256)\n",
    "er.fit(sessions_train, generator, epochs=5)"
   ]
  },
  {
   "cell_type": "code",
   "execution_count": 9,
   "id": "6fdaccb0",
   "metadata": {},
   "outputs": [
    {
     "data": {
      "text/plain": [
       "(295752, 128)"
      ]
     },
     "execution_count": 9,
     "metadata": {},
     "output_type": "execute_result"
    }
   ],
   "source": [
    "# Training sessions in the embedding space, where KNN will be performed\n",
    "# Transforms shape from (num_train_sessions x num_items) --> (num_train_sessions x hidden_dim)\n",
    "er.embeddings.shape"
   ]
  },
  {
   "cell_type": "code",
   "execution_count": 10,
   "id": "68ec29e6",
   "metadata": {
    "scrolled": true
   },
   "outputs": [
    {
     "name": "stdout",
     "output_type": "stream",
     "text": [
      "Embedding test users...\n",
      "2311/2311 [==============================] - 10s 4ms/step\n",
      "Performing nearest-neighbor search in embedding space...\n",
      "Aggregating neighbor ratings...\n"
     ]
    },
    {
     "name": "stderr",
     "output_type": "stream",
     "text": [
      "100%|███████████████████████████████████████████████████████████████████████████| 73939/73939 [04:42<00:00, 261.61it/s]\n"
     ]
    }
   ],
   "source": [
    "pred = er.predict(seen)"
   ]
  },
  {
   "cell_type": "code",
   "execution_count": 11,
   "id": "c1fce6ce",
   "metadata": {
    "scrolled": false
   },
   "outputs": [
    {
     "data": {
      "image/png": "[encoded data removed]",
      "text/plain": [
       "<Figure size 640x480 with 1 Axes>"
      ]
     },
     "metadata": {},
     "output_type": "display_data"
    }
   ],
   "source": [
    "output = np.asarray(pred[unseen.nonzero()]).flatten() # Predictions lined up with unseen\n",
    "#plt.scatter(unseen.data, output)\n",
    "#plt.plot([0,1],[0,1], color='red')\n",
    "sns.boxenplot(x=unseen.data, y=output)\n",
    "plt.xlabel('True Ratings')\n",
    "plt.xticks(rotation=45)\n",
    "plt.ylabel('Predicted Ratings')\n",
    "plt.show()"
   ]
  },
  {
   "cell_type": "code",
   "execution_count": 12,
   "id": "d9bde959",
   "metadata": {
    "scrolled": true
   },
   "outputs": [
    {
     "name": "stdout",
     "output_type": "stream",
     "text": [
      "RMSE: 0.14334671447077915\n",
      "R2: 0.006302818066638715\n"
     ]
    }
   ],
   "source": [
    "RMSE = root_mean_squared_error(unseen.data, output)\n",
    "correlation_coefficient, _ = pearsonr(unseen.data, output)\n",
    "print(f\"RMSE: {RMSE}\\nR2: {correlation_coefficient ** 2}\")"
   ]
  },
  {
   "cell_type": "code",
   "execution_count": 13,
   "id": "c03dfca8",
   "metadata": {},
   "outputs": [
    {
     "name": "stdout",
     "output_type": "stream",
     "text": [
      "Percent Nonzero: 4.393999575364622\n",
      "Recall (% unseen ratings predicted): 12.530840420991266\n"
     ]
    }
   ],
   "source": [
    "frac_nonzero_ratings = pred.nnz / np.prod(pred.shape)\n",
    "frac_ratings_predicted = len(output.nonzero()[0]) / len(output)\n",
    "print(f\"Percent Nonzero: {frac_nonzero_ratings * 100}\\nRecall (% unseen ratings predicted): {frac_ratings_predicted * 100}\")"
   ]
  }
 ],
 "metadata": {
  "kernelspec": {
   "display_name": "Python 3 (ipykernel)",
   "language": "python",
   "name": "python3"
  },
  "language_info": {
   "codemirror_mode": {
    "name": "ipython",
    "version": 3
   },
   "file_extension": ".py",
   "mimetype": "text/x-python",
   "name": "python",
   "nbconvert_exporter": "python",
   "pygments_lexer": "ipython3",
   "version": "3.10.4"
  }
 },
 "nbformat": 4,
 "nbformat_minor": 5
}
