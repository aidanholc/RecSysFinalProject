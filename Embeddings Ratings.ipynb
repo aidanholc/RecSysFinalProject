{
 "cells": [
  {
   "cell_type": "markdown",
   "id": "e1650b3d",
   "metadata": {},
   "source": [
    "# Embedding Ratings\n",
    "CSC 6711  \n",
    "Nicholas Kaja  \n",
    "\n",
    "### To Try:  \n",
    "- ~~TFIDF~~\n",
    "- Binary ratings (0/1 instead of 0-5)\n",
    "- \"Session-based\" training"
   ]
  },
  {
   "cell_type": "code",
   "execution_count": 1,
   "id": "05692741",
   "metadata": {},
   "outputs": [],
   "source": [
    "# TensorFlow Keras\n",
    "import tensorflow as tf\n",
    "from tensorflow import keras\n",
    "from tensorflow.keras import layers\n",
    "from tensorflow.keras import backend as K\n",
    "from tensorflow.keras.models import Model\n",
    "\n",
    "# Other\n",
    "import pandas as pd\n",
    "import numpy as np\n",
    "import seaborn as sns\n",
    "import matplotlib.pyplot as plt\n",
    "from tqdm import tqdm\n",
    "from scipy.stats import pearsonr\n",
    "from scipy.sparse import csr_matrix, lil_matrix\n",
    "from sklearn.metrics import root_mean_squared_error\n",
    "from sklearn.model_selection import train_test_split\n",
    "from sklearn.neighbors import NearestNeighbors\n",
    "from sklearn.feature_extraction.text import TfidfTransformer\n",
    "\n",
    "import warnings\n",
    "warnings.filterwarnings('ignore')\n",
    "tf.config.run_functions_eagerly(True)\n",
    "#tf.data.experimental.enable_debug_mode()"
   ]
  },
  {
   "cell_type": "markdown",
   "id": "497e292e",
   "metadata": {},
   "source": [
    "## Classes and Methods"
   ]
  },
  {
   "cell_type": "code",
   "execution_count": 2,
   "id": "016f1155",
   "metadata": {},
   "outputs": [],
   "source": [
    "class EmbeddingRatings:\n",
    "    def __init__(self, hidden_dim: int, k: int):\n",
    "        input_vec = keras.Input(shape=(59047,))\n",
    "        encoded = layers.Dense(hidden_dim, activation='relu')(input_vec)\n",
    "        decoded = layers.Dense(59047, activation='sigmoid')(encoded)\n",
    "        \n",
    "        self.autoencoder = keras.Model(input_vec, decoded)\n",
    "        self.encoder = keras.Model(input_vec, encoded)\n",
    "        self.autoencoder.compile(optimizer='adam', loss='mean_squared_error')\n",
    "        \n",
    "        self.knn = NearestNeighbors(metric='cosine', n_neighbors=k)\n",
    "        #self.tfidf = TfidfTransformer()\n",
    "    \n",
    "    def fit(self, training_ratings: csr_matrix, epochs: int, batch_size: int):\n",
    "        self.training_ratings = training_ratings\n",
    "        \n",
    "        # Divide by 5 to range ratings between 0-1 (works with sigmoid output)\n",
    "        generator = SparseDataGenerator(self.training_ratings / 5, batch_size=batch_size)\n",
    "        print('Fitting autoencoder...')\n",
    "        self.autoencoder.fit(generator,\n",
    "                             epochs=epochs,\n",
    "                             batch_size=batch_size,\n",
    "                             shuffle=True)\n",
    "        \n",
    "        print('Creating embeddings...')\n",
    "        self.embeddings = self.encoder.predict(self.training_ratings / 5)\n",
    "        self.knn.fit(self.embeddings)\n",
    "        #self.knn.fit(self.tfidf.fit_transform(self.embeddings))\n",
    "        \n",
    "    def predict(self, user_ratings):\n",
    "        print('Embedding test users...')\n",
    "        pred_embeddings = self.encoder.predict(user_ratings / 5)\n",
    "        \n",
    "        print('Performing nearest-neighbor search in embedding space...')\n",
    "        user_neighbors = self.knn.kneighbors(pred_embeddings, return_distance=False)\n",
    "        #user_neighbors = self.knn.kneighbors(self.tfidf.transform(pred_embeddings), return_distance=False)\n",
    "        \n",
    "        print('Aggregating neighbor ratings...')\n",
    "        pred = lil_matrix(user_ratings.shape)\n",
    "        for idx, neighbor_indices in enumerate(user_neighbors):\n",
    "            neighbors = self.training_ratings[neighbor_indices]\n",
    "            divisor = neighbors.getnnz(axis=0)\n",
    "            divisor[divisor == 0] = 1\n",
    "            pred[idx] = neighbors.sum(axis=0) / divisor\n",
    " \n",
    "        return pred.tocsr()"
   ]
  },
  {
   "cell_type": "code",
   "execution_count": 3,
   "id": "b04b4a6f",
   "metadata": {},
   "outputs": [],
   "source": [
    "class SparseDataGenerator(keras.utils.Sequence):\n",
    "    def __init__(self, x, batch_size):\n",
    "        self.x = x\n",
    "        self.batch_size = batch_size\n",
    "        self.indices = np.arange(x.shape[0])\n",
    "\n",
    "    def __len__(self):\n",
    "        return int(np.ceil(self.x.shape[0] / self.batch_size))\n",
    "\n",
    "    def __getitem__(self, idx):\n",
    "        batch_indices = self.indices[idx * self.batch_size : (idx + 1) * self.batch_size]\n",
    "        batch = self.x[batch_indices].toarray()\n",
    "        return batch, batch"
   ]
  },
  {
   "cell_type": "code",
   "execution_count": 4,
   "id": "c223e539",
   "metadata": {},
   "outputs": [],
   "source": [
    "def seen_unseen_split(ratings, fraction_seen=0.8):\n",
    "    seen = lil_matrix(ratings.shape)\n",
    "    unseen = lil_matrix(ratings.shape)\n",
    "\n",
    "    for user_id in tqdm(range(ratings.shape[0])):\n",
    "        rated_items_indices = ratings[user_id].nonzero()[1]\n",
    "        np.random.shuffle(rated_items_indices)\n",
    "        num_seen_items = int(fraction_seen * len(rated_items_indices))\n",
    "\n",
    "        seen[user_id, rated_items_indices[:num_seen_items]] = ratings[user_id, rated_items_indices[:num_seen_items]]\n",
    "        unseen[user_id, rated_items_indices[num_seen_items:]] = ratings[user_id, rated_items_indices[num_seen_items:]]\n",
    "\n",
    "    return seen.tocsr(), unseen.tocsr()"
   ]
  },
  {
   "cell_type": "markdown",
   "id": "99321399",
   "metadata": {},
   "source": [
    "## Data Preparation"
   ]
  },
  {
   "cell_type": "code",
   "execution_count": 5,
   "id": "80b5164d",
   "metadata": {},
   "outputs": [
    {
     "data": {
      "text/plain": [
       "((130032, 59047), (32509, 59047))"
      ]
     },
     "execution_count": 5,
     "metadata": {},
     "output_type": "execute_result"
    }
   ],
   "source": [
    "df = pd.read_csv('ratings.csv').drop('timestamp', axis=1)\n",
    "item_index = {item: index for index, item in enumerate(df['movieId'].unique())}\n",
    "\n",
    "ratings_matrix = csr_matrix((df['rating'], (df['userId'] - 1, df['movieId'].map(item_index))),\n",
    "                            shape=(len(df['userId'].unique()), len(item_index)))\n",
    "del df\n",
    "\n",
    "users_train, users_test = train_test_split(ratings_matrix, test_size=0.2)\n",
    "del ratings_matrix\n",
    "\n",
    "users_train.shape, users_test.shape"
   ]
  },
  {
   "cell_type": "code",
   "execution_count": 6,
   "id": "426fc24c",
   "metadata": {},
   "outputs": [
    {
     "name": "stderr",
     "output_type": "stream",
     "text": [
      "100%|██████████████████████████████████████████████████████████████████████████| 32509/32509 [00:15<00:00, 2070.64it/s]\n"
     ]
    }
   ],
   "source": [
    "seen, unseen = seen_unseen_split(users_test)"
   ]
  },
  {
   "cell_type": "markdown",
   "id": "232ae510",
   "metadata": {},
   "source": [
    "## Usage"
   ]
  },
  {
   "cell_type": "code",
   "execution_count": 7,
   "id": "4f352485",
   "metadata": {},
   "outputs": [],
   "source": [
    "er = EmbeddingRatings(hidden_dim=128, k=200)"
   ]
  },
  {
   "cell_type": "code",
   "execution_count": 8,
   "id": "fbd1e7aa",
   "metadata": {},
   "outputs": [
    {
     "name": "stdout",
     "output_type": "stream",
     "text": [
      "Fitting autoencoder...\n",
      "Epoch 1/10\n",
      "508/508 [==============================] - 33s 64ms/step - loss: 0.0126\n",
      "Epoch 2/10\n",
      "508/508 [==============================] - 32s 64ms/step - loss: 0.0014\n",
      "Epoch 3/10\n",
      "508/508 [==============================] - 33s 64ms/step - loss: 0.0014\n",
      "Epoch 4/10\n",
      "508/508 [==============================] - 32s 64ms/step - loss: 0.0014\n",
      "Epoch 5/10\n",
      "508/508 [==============================] - 32s 64ms/step - loss: 0.0013\n",
      "Epoch 6/10\n",
      "508/508 [==============================] - 33s 65ms/step - loss: 0.0013\n",
      "Epoch 7/10\n",
      "508/508 [==============================] - 33s 65ms/step - loss: 0.0013\n",
      "Epoch 8/10\n",
      "508/508 [==============================] - 32s 64ms/step - loss: 0.0013\n",
      "Epoch 9/10\n",
      "508/508 [==============================] - 32s 64ms/step - loss: 0.0013\n",
      "Epoch 10/10\n",
      "508/508 [==============================] - 33s 64ms/step - loss: 0.0013\n",
      "Creating embeddings...\n",
      "4064/4064 [==============================] - 21s 5ms/step\n"
     ]
    }
   ],
   "source": [
    "er.fit(users_train, epochs=10, batch_size=256)"
   ]
  },
  {
   "cell_type": "code",
   "execution_count": 9,
   "id": "6fdaccb0",
   "metadata": {},
   "outputs": [
    {
     "data": {
      "text/plain": [
       "(130032, 128)"
      ]
     },
     "execution_count": 9,
     "metadata": {},
     "output_type": "execute_result"
    }
   ],
   "source": [
    "er.embeddings.shape"
   ]
  },
  {
   "cell_type": "code",
   "execution_count": 10,
   "id": "68ec29e6",
   "metadata": {},
   "outputs": [
    {
     "name": "stdout",
     "output_type": "stream",
     "text": [
      "Embedding test users...\n",
      "1016/1016 [==============================] - 5s 5ms/step\n",
      "Performing nearest-neighbor search in embedding space...\n",
      "Aggregating neighbor ratings...\n"
     ]
    }
   ],
   "source": [
    "pred = er.predict(seen)"
   ]
  },
  {
   "cell_type": "code",
   "execution_count": 11,
   "id": "c1fce6ce",
   "metadata": {},
   "outputs": [
    {
     "data": {
      "image/png": "[encoded data removed]",
      "text/plain": [
       "<Figure size 640x480 with 1 Axes>"
      ]
     },
     "metadata": {},
     "output_type": "display_data"
    }
   ],
   "source": [
    "output = np.asarray(pred[unseen.nonzero()]).flatten() # Predictions lined up with unseen\n",
    "sns.boxplot(x=unseen.data, y=output)\n",
    "plt.xlabel('True Ratings')\n",
    "plt.ylabel('Predicted Ratings')\n",
    "plt.show()"
   ]
  },
  {
   "cell_type": "markdown",
   "id": "bfd785cb",
   "metadata": {},
   "source": [
    "*Previous Metrics*  \n",
    "- hidden=128, k=200, epochs=10 > RMSE: 1.0690632384619443, R2: 0.1327474508966947\n",
    "- hidden=128, k=200, epochs=10, TFIDF > RMSE: 1.0965591000702024, R2: 0.12109258734503982"
   ]
  },
  {
   "cell_type": "code",
   "execution_count": 12,
   "id": "d9bde959",
   "metadata": {
    "scrolled": true
   },
   "outputs": [
    {
     "name": "stdout",
     "output_type": "stream",
     "text": [
      "RMSE: 1.0965591000702024\n",
      "R2: 0.12109258734503982\n"
     ]
    }
   ],
   "source": [
    "RMSE = root_mean_squared_error(unseen.data, output)\n",
    "correlation_coefficient, _ = pearsonr(unseen.data, output)\n",
    "print(f\"RMSE: {RMSE}\\nR2: {correlation_coefficient ** 2}\")"
   ]
  },
  {
   "cell_type": "code",
   "execution_count": 13,
   "id": "c03dfca8",
   "metadata": {},
   "outputs": [
    {
     "name": "stdout",
     "output_type": "stream",
     "text": [
      "Fraction Nonzero: 0.052101725975514636\n",
      "Recall (% unseen ratings predicted): 0.9722587943142806\n"
     ]
    }
   ],
   "source": [
    "frac_nonzero_ratings = pred.nnz / np.prod(pred.shape)\n",
    "frac_ratings_predicted = len(output.nonzero()[0]) / len(output)\n",
    "print(f\"Fraction Nonzero: {frac_nonzero_ratings}\\nRecall (% unseen ratings predicted): {frac_ratings_predicted}\")"
   ]
  },
  {
   "cell_type": "markdown",
   "id": "5502d221",
   "metadata": {},
   "source": [
    "## Test Loop"
   ]
  },
  {
   "cell_type": "code",
   "execution_count": 7,
   "id": "58506285",
   "metadata": {},
   "outputs": [],
   "source": [
    "rmses, r2s = [], []"
   ]
  },
  {
   "cell_type": "code",
   "execution_count": 8,
   "id": "f4a7729f",
   "metadata": {
    "scrolled": true
   },
   "outputs": [
    {
     "name": "stdout",
     "output_type": "stream",
     "text": [
      "Fitting autoencoder...\n",
      "508/508 [==============================] - 34s 63ms/step - loss: 0.0093\n",
      "Creating embeddings...\n",
      "4064/4064 [==============================] - 17s 4ms/step\n",
      "Embedding test users...\n",
      "1016/1016 [==============================] - 4s 4ms/step\n",
      "Performing nearest-neighbor search in embedding space...\n",
      "Aggregating neighbor ratings...\n",
      "Epoch 1:\n",
      " -RMSE: 1.1128342735106336\n",
      " -R2: 0.11025981018778586\n",
      "Fitting autoencoder...\n",
      "508/508 [==============================] - 31s 61ms/step - loss: 0.0014\n",
      "Creating embeddings...\n",
      "4064/4064 [==============================] - 17s 4ms/step\n",
      "Embedding test users...\n",
      "1016/1016 [==============================] - 4s 4ms/step\n",
      "Performing nearest-neighbor search in embedding space...\n",
      "Aggregating neighbor ratings...\n",
      "Epoch 2:\n",
      " -RMSE: 1.1134622428484764\n",
      " -R2: 0.11295807891522372\n",
      "Fitting autoencoder...\n",
      "508/508 [==============================] - 30s 59ms/step - loss: 0.0013\n",
      "Creating embeddings...\n",
      "4064/4064 [==============================] - 17s 4ms/step\n",
      "Embedding test users...\n",
      "1016/1016 [==============================] - 5s 5ms/step\n",
      "Performing nearest-neighbor search in embedding space...\n",
      "Aggregating neighbor ratings...\n",
      "Epoch 3:\n",
      " -RMSE: 1.1145849401567995\n",
      " -R2: 0.11205478540623216\n",
      "Fitting autoencoder...\n",
      "508/508 [==============================] - 31s 61ms/step - loss: 0.0013\n",
      "Creating embeddings...\n",
      "4064/4064 [==============================] - 17s 4ms/step\n",
      "Embedding test users...\n",
      "1016/1016 [==============================] - 5s 5ms/step\n",
      "Performing nearest-neighbor search in embedding space...\n",
      "Aggregating neighbor ratings...\n",
      "Epoch 4:\n",
      " -RMSE: 1.1087124002474378\n",
      " -R2: 0.11621673404179261\n",
      "Fitting autoencoder...\n",
      "508/508 [==============================] - 31s 60ms/step - loss: 0.0013\n",
      "Creating embeddings...\n",
      "4064/4064 [==============================] - 17s 4ms/step\n",
      "Embedding test users...\n",
      "1016/1016 [==============================] - 4s 4ms/step\n",
      "Performing nearest-neighbor search in embedding space...\n",
      "Aggregating neighbor ratings...\n",
      "Epoch 5:\n",
      " -RMSE: 1.1058105953149056\n",
      " -R2: 0.11778528654583396\n",
      "Fitting autoencoder...\n",
      "508/508 [==============================] - 31s 60ms/step - loss: 0.0013\n",
      "Creating embeddings...\n",
      "4064/4064 [==============================] - 17s 4ms/step\n",
      "Embedding test users...\n",
      "1016/1016 [==============================] - 4s 4ms/step\n",
      "Performing nearest-neighbor search in embedding space...\n",
      "Aggregating neighbor ratings...\n",
      "Epoch 6:\n",
      " -RMSE: 1.101685223869328\n",
      " -R2: 0.11943089931829468\n",
      "Fitting autoencoder...\n",
      "508/508 [==============================] - 32s 62ms/step - loss: 0.0013\n",
      "Creating embeddings...\n",
      "4064/4064 [==============================] - 17s 4ms/step\n",
      "Embedding test users...\n",
      "1016/1016 [==============================] - 5s 5ms/step\n",
      "Performing nearest-neighbor search in embedding space...\n",
      "Aggregating neighbor ratings...\n",
      "Epoch 7:\n",
      " -RMSE: 1.0954701465047223\n",
      " -R2: 0.121914536458218\n",
      "Fitting autoencoder...\n",
      "508/508 [==============================] - 31s 61ms/step - loss: 0.0013\n",
      "Creating embeddings...\n",
      "4064/4064 [==============================] - 17s 4ms/step\n",
      "Embedding test users...\n",
      "1016/1016 [==============================] - 5s 5ms/step\n",
      "Performing nearest-neighbor search in embedding space...\n",
      "Aggregating neighbor ratings...\n",
      "Epoch 8:\n",
      " -RMSE: 1.0915748589426717\n",
      " -R2: 0.12326035574124895\n",
      "Fitting autoencoder...\n",
      "508/508 [==============================] - 32s 62ms/step - loss: 0.0013\n",
      "Creating embeddings...\n",
      "4064/4064 [==============================] - 17s 4ms/step\n",
      "Embedding test users...\n",
      "1016/1016 [==============================] - 5s 5ms/step\n",
      "Performing nearest-neighbor search in embedding space...\n",
      "Aggregating neighbor ratings...\n",
      "Epoch 9:\n",
      " -RMSE: 1.0901809435699328\n",
      " -R2: 0.12321504908518988\n",
      "Fitting autoencoder...\n",
      "508/508 [==============================] - 30s 58ms/step - loss: 0.0012\n",
      "Creating embeddings...\n",
      "4064/4064 [==============================] - 17s 4ms/step\n",
      "Embedding test users...\n",
      "1016/1016 [==============================] - 5s 5ms/step\n",
      "Performing nearest-neighbor search in embedding space...\n",
      "Aggregating neighbor ratings...\n",
      "Epoch 10:\n",
      " -RMSE: 1.0873777495871622\n",
      " -R2: 0.12392048966206858\n",
      "Fitting autoencoder...\n",
      "508/508 [==============================] - 31s 60ms/step - loss: 0.0012\n",
      "Creating embeddings...\n",
      "4064/4064 [==============================] - 18s 4ms/step\n",
      "Embedding test users...\n",
      "1016/1016 [==============================] - 5s 5ms/step\n",
      "Performing nearest-neighbor search in embedding space...\n",
      "Aggregating neighbor ratings...\n",
      "Epoch 11:\n",
      " -RMSE: 1.0860880025702886\n",
      " -R2: 0.12405298724643156\n",
      "Fitting autoencoder...\n",
      "508/508 [==============================] - 32s 62ms/step - loss: 0.0012\n",
      "Creating embeddings...\n",
      "4064/4064 [==============================] - 18s 4ms/step\n",
      "Embedding test users...\n",
      "1016/1016 [==============================] - 5s 5ms/step\n",
      "Performing nearest-neighbor search in embedding space...\n",
      "Aggregating neighbor ratings...\n",
      "Epoch 12:\n",
      " -RMSE: 1.085718749592507\n",
      " -R2: 0.12377762106230907\n",
      "Fitting autoencoder...\n",
      "508/508 [==============================] - 32s 62ms/step - loss: 0.0012\n",
      "Creating embeddings...\n",
      "4064/4064 [==============================] - 18s 4ms/step\n",
      "Embedding test users...\n",
      "1016/1016 [==============================] - 4s 4ms/step\n",
      "Performing nearest-neighbor search in embedding space...\n",
      "Aggregating neighbor ratings...\n",
      "Epoch 13:\n",
      " -RMSE: 1.0847633283875857\n",
      " -R2: 0.12402484911445653\n",
      "Fitting autoencoder...\n",
      "508/508 [==============================] - 33s 64ms/step - loss: 0.0012\n",
      "Creating embeddings...\n",
      "4064/4064 [==============================] - 17s 4ms/step\n",
      "Embedding test users...\n",
      "1016/1016 [==============================] - 4s 4ms/step\n",
      "Performing nearest-neighbor search in embedding space...\n",
      "Aggregating neighbor ratings...\n",
      "Epoch 14:\n",
      " -RMSE: 1.082493765493273\n",
      " -R2: 0.12492455809814311\n",
      "Fitting autoencoder...\n",
      "508/508 [==============================] - 32s 62ms/step - loss: 0.0012\n",
      "Creating embeddings...\n",
      "4064/4064 [==============================] - 18s 4ms/step\n",
      "Embedding test users...\n",
      "1016/1016 [==============================] - 4s 4ms/step\n",
      "Performing nearest-neighbor search in embedding space...\n",
      "Aggregating neighbor ratings...\n",
      "Epoch 15:\n",
      " -RMSE: 1.0800923475613329\n",
      " -R2: 0.1258345322216557\n",
      "Fitting autoencoder...\n",
      "508/508 [==============================] - 32s 63ms/step - loss: 0.0012\n",
      "Creating embeddings...\n",
      "4064/4064 [==============================] - 17s 4ms/step\n",
      "Embedding test users...\n",
      "1016/1016 [==============================] - 5s 5ms/step\n",
      "Performing nearest-neighbor search in embedding space...\n",
      "Aggregating neighbor ratings...\n",
      "Epoch 16:\n",
      " -RMSE: 1.078381119083371\n",
      " -R2: 0.1267648766347767\n",
      "Fitting autoencoder...\n",
      "508/508 [==============================] - 33s 63ms/step - loss: 0.0012\n",
      "Creating embeddings...\n",
      "4064/4064 [==============================] - 17s 4ms/step\n",
      "Embedding test users...\n",
      "1016/1016 [==============================] - 4s 4ms/step\n",
      "Performing nearest-neighbor search in embedding space...\n",
      "Aggregating neighbor ratings...\n",
      "Epoch 17:\n",
      " -RMSE: 1.0776576647149834\n",
      " -R2: 0.12705306532113195\n",
      "Fitting autoencoder...\n",
      "508/508 [==============================] - 33s 63ms/step - loss: 0.0012\n",
      "Creating embeddings...\n",
      "4064/4064 [==============================] - 17s 4ms/step\n",
      "Embedding test users...\n",
      "1016/1016 [==============================] - 5s 5ms/step\n",
      "Performing nearest-neighbor search in embedding space...\n",
      "Aggregating neighbor ratings...\n",
      "Epoch 18:\n",
      " -RMSE: 1.0782849322690051\n",
      " -R2: 0.12636386290309742\n",
      "Fitting autoencoder...\n",
      "508/508 [==============================] - 33s 64ms/step - loss: 0.0012\n",
      "Creating embeddings...\n",
      "4064/4064 [==============================] - 17s 4ms/step\n",
      "Embedding test users...\n",
      "1016/1016 [==============================] - 4s 4ms/step\n",
      "Performing nearest-neighbor search in embedding space...\n",
      "Aggregating neighbor ratings...\n",
      "Epoch 19:\n",
      " -RMSE: 1.0790303084081643\n",
      " -R2: 0.12569753623248922\n",
      "Fitting autoencoder...\n",
      "508/508 [==============================] - 32s 63ms/step - loss: 0.0012\n",
      "Creating embeddings...\n",
      "4064/4064 [==============================] - 18s 4ms/step\n",
      "Embedding test users...\n",
      "1016/1016 [==============================] - 5s 5ms/step\n",
      "Performing nearest-neighbor search in embedding space...\n",
      "Aggregating neighbor ratings...\n",
      "Epoch 20:\n",
      " -RMSE: 1.080535245272696\n",
      " -R2: 0.12481248958231664\n",
      "Fitting autoencoder...\n",
      "508/508 [==============================] - 33s 63ms/step - loss: 0.0012\n",
      "Creating embeddings...\n",
      "4064/4064 [==============================] - 18s 4ms/step\n",
      "Embedding test users...\n",
      "1016/1016 [==============================] - 4s 4ms/step\n",
      "Performing nearest-neighbor search in embedding space...\n",
      "Aggregating neighbor ratings...\n",
      "Epoch 21:\n",
      " -RMSE: 1.081819537203169\n",
      " -R2: 0.12390595033159278\n",
      "Fitting autoencoder...\n",
      "508/508 [==============================] - 33s 63ms/step - loss: 0.0012\n",
      "Creating embeddings...\n",
      "4064/4064 [==============================] - 18s 4ms/step\n",
      "Embedding test users...\n",
      "1016/1016 [==============================] - 5s 5ms/step\n",
      "Performing nearest-neighbor search in embedding space...\n",
      "Aggregating neighbor ratings...\n",
      "Epoch 22:\n",
      " -RMSE: 1.0836148238472822\n",
      " -R2: 0.12288943559291689\n",
      "Fitting autoencoder...\n",
      "508/508 [==============================] - 33s 64ms/step - loss: 0.0012\n",
      "Creating embeddings...\n",
      "4064/4064 [==============================] - 17s 4ms/step\n",
      "Embedding test users...\n",
      "1016/1016 [==============================] - 4s 4ms/step\n",
      "Performing nearest-neighbor search in embedding space...\n",
      "Aggregating neighbor ratings...\n",
      "Epoch 23:\n",
      " -RMSE: 1.0841383527266273\n",
      " -R2: 0.12249940159580917\n",
      "Fitting autoencoder...\n",
      "508/508 [==============================] - 32s 63ms/step - loss: 0.0012\n",
      "Creating embeddings...\n",
      "4064/4064 [==============================] - 17s 4ms/step\n",
      "Embedding test users...\n",
      "1016/1016 [==============================] - 5s 5ms/step\n",
      "Performing nearest-neighbor search in embedding space...\n",
      "Aggregating neighbor ratings...\n",
      "Epoch 24:\n",
      " -RMSE: 1.086197054839553\n",
      " -R2: 0.1214925940243723\n",
      "Fitting autoencoder...\n",
      "508/508 [==============================] - 33s 63ms/step - loss: 0.0012\n",
      "Creating embeddings...\n",
      "4064/4064 [==============================] - 17s 4ms/step\n",
      "Embedding test users...\n",
      "1016/1016 [==============================] - 4s 4ms/step\n",
      "Performing nearest-neighbor search in embedding space...\n",
      "Aggregating neighbor ratings...\n",
      "Epoch 25:\n",
      " -RMSE: 1.0860437263605702\n",
      " -R2: 0.12169284973004706\n",
      "Fitting autoencoder...\n",
      "508/508 [==============================] - 33s 63ms/step - loss: 0.0012\n",
      "Creating embeddings...\n",
      "4064/4064 [==============================] - 18s 4ms/step\n",
      "Embedding test users...\n",
      "1016/1016 [==============================] - 5s 4ms/step\n",
      "Performing nearest-neighbor search in embedding space...\n",
      "Aggregating neighbor ratings...\n",
      "Epoch 26:\n",
      " -RMSE: 1.0846141300820846\n",
      " -R2: 0.12223751601123875\n",
      "Fitting autoencoder...\n",
      "508/508 [==============================] - 32s 63ms/step - loss: 0.0011\n",
      "Creating embeddings...\n",
      "4064/4064 [==============================] - 17s 4ms/step\n",
      "Embedding test users...\n",
      "1016/1016 [==============================] - 5s 5ms/step\n",
      "Performing nearest-neighbor search in embedding space...\n",
      "Aggregating neighbor ratings...\n",
      "Epoch 27:\n",
      " -RMSE: 1.0827575615725151\n",
      " -R2: 0.12282275750659984\n",
      "Fitting autoencoder...\n",
      "508/508 [==============================] - 32s 63ms/step - loss: 0.0011\n",
      "Creating embeddings...\n",
      "4064/4064 [==============================] - 18s 4ms/step\n",
      "Embedding test users...\n",
      "1016/1016 [==============================] - 5s 4ms/step\n",
      "Performing nearest-neighbor search in embedding space...\n",
      "Aggregating neighbor ratings...\n",
      "Epoch 28:\n",
      " -RMSE: 1.0821317169833733\n",
      " -R2: 0.12344484633676243\n",
      "Fitting autoencoder...\n",
      "508/508 [==============================] - 34s 67ms/step - loss: 0.0011\n",
      "Creating embeddings...\n",
      "4064/4064 [==============================] - 18s 4ms/step\n",
      "Embedding test users...\n",
      "1016/1016 [==============================] - 4s 4ms/step\n",
      "Performing nearest-neighbor search in embedding space...\n",
      "Aggregating neighbor ratings...\n",
      "Epoch 29:\n",
      " -RMSE: 1.0812745754894504\n",
      " -R2: 0.12416041206544177\n",
      "Fitting autoencoder...\n",
      "508/508 [==============================] - 33s 64ms/step - loss: 0.0011\n",
      "Creating embeddings...\n",
      "4064/4064 [==============================] - 17s 4ms/step\n",
      "Embedding test users...\n",
      "1016/1016 [==============================] - 4s 4ms/step\n",
      "Performing nearest-neighbor search in embedding space...\n",
      "Aggregating neighbor ratings...\n",
      "Epoch 30:\n",
      " -RMSE: 1.0817448561158762\n",
      " -R2: 0.12396743274221887\n"
     ]
    }
   ],
   "source": [
    "epochs = 30\n",
    "er = EmbeddingRatings(hidden_dim=512, k=200)\n",
    "for i in range(epochs):\n",
    "    er.fit(users_train, epochs=1, batch_size=256)\n",
    "    pred = er.predict(seen)\n",
    "    output = np.asarray(pred[unseen.nonzero()]).flatten() # Predictions lined up with unseen\n",
    "    RMSE = root_mean_squared_error(unseen.data, output)\n",
    "    correlation_coefficient, _ = pearsonr(unseen.data, output)\n",
    "    print(f\"Epoch {i + 1}:\\n -RMSE: {RMSE}\\n -R2: {correlation_coefficient ** 2}\")\n",
    "    rmses.append(RMSE)\n",
    "    r2s.append(correlation_coefficient ** 2)"
   ]
  },
  {
   "cell_type": "code",
   "execution_count": 9,
   "id": "173fce09",
   "metadata": {
    "scrolled": false
   },
   "outputs": [
    {
     "data": {
      "image/png": "[encoded data removed]",
      "text/plain": [
       "<Figure size 640x480 with 2 Axes>"
      ]
     },
     "metadata": {},
     "output_type": "display_data"
    }
   ],
   "source": [
    "fig, ax1 = plt.subplots()\n",
    "\n",
    "color = 'tab:red'\n",
    "ax1.set_xlabel('Epoch')\n",
    "ax1.set_ylabel('RMSE', color=color)\n",
    "ax1.plot(range(len(rmses)), rmses, color=color)\n",
    "ax1.tick_params(axis='y', labelcolor=color)\n",
    "\n",
    "ax2 = ax1.twinx()  \n",
    "color = 'tab:blue'\n",
    "ax2.set_ylabel('R2', color=color)\n",
    "ax2.plot(range(len(r2s)), r2s, color=color)\n",
    "ax2.tick_params(axis='y', labelcolor=color)\n",
    "\n",
    "fig.tight_layout()\n",
    "plt.title('Hidden_dim=512, K=200')\n",
    "plt.show()"
   ]
  }
 ],
 "metadata": {
  "kernelspec": {
   "display_name": "Python 3 (ipykernel)",
   "language": "python",
   "name": "python3"
  },
  "language_info": {
   "codemirror_mode": {
    "name": "ipython",
    "version": 3
   },
   "file_extension": ".py",
   "mimetype": "text/x-python",
   "name": "python",
   "nbconvert_exporter": "python",
   "pygments_lexer": "ipython3",
   "version": "3.10.4"
  }
 },
 "nbformat": 4,
 "nbformat_minor": 5
}
